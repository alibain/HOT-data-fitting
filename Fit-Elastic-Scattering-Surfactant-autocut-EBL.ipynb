{
    "cells": [
        {
            "cell_type": "code",
            "execution_count": 1,
            "metadata": {},
            "outputs": [],
            "source": [
                "# import packages\n",
                "import pandas as pd\n",
                "import numpy as np\n",
                "import math\n",
                "from math import inf\n",
                "import matplotlib.pyplot as plt\n",
                "#%matplotlib inline \n",
                "from scipy.signal import find_peaks, peak_widths\n",
                "from scipy.optimize import curve_fit\n",
                "from scipy.fftpack import fft, fftfreq"
            ]
        },
        {
            "cell_type": "code",
            "execution_count": 299,
            "metadata": {},
            "outputs": [
                {
                    "name": "stderr",
                    "output_type": "stream",
                    "text": [
                        "c:\\Users\\zu21202\\Anaconda3\\lib\\site-packages\\numpy\\lib\\arraysetops.py:583: FutureWarning: elementwise comparison failed; returning scalar instead, but in the future will perform elementwise comparison\n",
                        "  mask |= (ar1 == a)\n"
                    ]
                }
            ],
            "source": [
                "# Import EBL and MRFIT data\n",
                "solute='glutaric acid' # 'NaCl' 'sea spray' or 'glutaric acid' used to determine which RI and density parameterizations to use for analysis\n",
                "surfactant='C16E8' # TritonX100, SDS, O-b-D-1-TGP, CTAB, Tween20, C10E8, C12E5, C14E6, C16E8, sodium myristate, sodium laurate\n",
                "\n",
                "massSol= 2.3781/1000 #mass of primary solute in kg\n",
                "massSurf=((0.1377/250)*17.5)/1000 #mass of surfactant in kg (m1/v1)*v2 = ((0.0103/250)*40)\n",
                "vSol=0.02 # Solution volume L\n",
                "\n",
                "f=r'C:\\Users\\zu21202\\OneDrive - University of Bristol\\Documents\\UoB-PostDoc\\HOT-data\\header-removed/df-C1Trace05868' #EBL data\n",
                "data = pd.read_csv(f+'.txt',index_col=0, sep=',')\n",
                "\n",
                "path=r'C:\\Users\\zu21202\\OneDrive - University of Bristol\\Documents\\UoB-PostDoc\\HOT-data/MRFIT-out/' # MRFIT out file path\n",
                "fname1='Nov-22-2022_14_49_56parpeaks-IndexAndRadius.txt' #Radius and RI file\n",
                "ridata1=pd.read_csv(path+fname1,engine='python',sep='\\t',index_col=False,header=0)  \n",
                "ridata=ridata1.iloc[0:len(ridata1)]"
            ]
        },
        {
            "cell_type": "code",
            "execution_count": 309,
            "metadata": {},
            "outputs": [
                {
                    "name": "stdout",
                    "output_type": "stream",
                    "text": [
                        "1.3552020478197486 0.00492316789945536 8650.168698525964 362.6818857231238\n"
                    ]
                },
                {
                    "name": "stderr",
                    "output_type": "stream",
                    "text": [
                        "C:\\Users\\zu21202\\AppData\\Local\\Temp/ipykernel_3056/4142549471.py:7: FutureWarning: Boolean inputs to the `inclusive` argument are deprecated infavour of `both` or `neither`.\n",
                        "  filt2=disp.between(500,2000,inclusive=True)\n"
                    ]
                },
                {
                    "data": {
                        "image/png": "[encoded data removed]",
                        "text/plain": [
                            "<Figure size 432x288 with 1 Axes>"
                        ]
                    },
                    "metadata": {
                        "needs_background": "light"
                    },
                    "output_type": "display_data"
                },
                {
                    "data": {
                        "image/png": "[encoded data removed]",
                        "text/plain": [
                            "<Figure size 432x288 with 1 Axes>"
                        ]
                    },
                    "metadata": {
                        "needs_background": "light"
                    },
                    "output_type": "display_data"
                }
            ],
            "source": [
                "ridata=ridata1.iloc[:] #choose bounds to radius and ri mean\n",
                "datt=ridata.T\n",
                "lam=589 #nm\n",
                "# Improve precision on Radius and RI by dispersion filtering\n",
                "rad=datt.iloc[1]\n",
                "disp=datt.iloc[3]\n",
                "filt2=disp.between(500,2000,inclusive=True)\n",
                "ri2=ridata[filt2].m0+ridata[filt2].m1/lam**2#+data.m2/lam**4\n",
                "meanri=np.mean(ri2)\n",
                "sdri=np.std(ri2)\n",
                "meanrad=np.mean(rad[filt2])\n",
                "sdrad=np.std(rad[filt2])\n",
                "\n",
                "print(meanri,sdri,meanrad,sdrad)\n",
                "plt.scatter(ridata[filt2].index+1,ridata[filt2].Radius,s=5)\n",
                "plt.show()\n",
                "plt.scatter(ridata[filt2].index+1,ri2,s=5)\n",
                "plt.show()"
            ]
        },
        {
            "cell_type": "code",
            "execution_count": 304,
            "metadata": {},
            "outputs": [
                {
                    "data": {
                        "image/png": "[encoded data removed]",
                        "text/plain": [
                            "<Figure size 432x288 with 1 Axes>"
                        ]
                    },
                    "metadata": {
                        "needs_background": "light"
                    },
                    "output_type": "display_data"
                }
            ],
            "source": [
                "x1=data.Time.to_numpy()\n",
                "x2=np.where(x1<0) # find min index where t=0\n",
                "\n",
                "x1=np.where(x1>0.00012) # tmax in second\n",
                "x1=x1[0]\n",
                "x2=x2[0]\n",
                "maxindex=x1[0]\n",
                "minindex=x2[len(x2)-1]\n",
                "\n",
                "datacut=data.Ampl[minindex:maxindex]\n",
                "timecut1=data.Time[minindex:maxindex]\n",
                "datacut1=datacut.to_numpy()\n",
                "timecut1=timecut1.to_numpy()\n",
                "\n",
                "# Autocrop EBL trace by finding end of oscillations\n",
                "# b1=np.mean(datacut[10000:len(datacut)]) # long time baseline\n",
                "# indices=find_peaks(datacut,height=[b1*1.2,b1*10])[0] # find peaks\n",
                "# y2 = datacut1*-1 + max(datacut1) # Invert trace\n",
                "# b2=np.mean(y2[10000:len(y2)]) # long time basleine of inverse spectrum\n",
                "# minima = find_peaks(y2,height=[b2*1.1,b2*10])[0] # find minima\n",
                "# lastpeakmax=minindex+indices[-1] # final peak \n",
                "# lastpeakmins=minindex+minima[-1] # final trough\n",
                "# lastpeak=int(np.max([lastpeakmax,lastpeakmins])*1.05) # peak/trough at longest time point +5%\n",
                "\n",
                "####### Alternative manual crop of EBL trace #######\n",
                "# x1=np.where(x1>0.00006) # tmax in second\n",
                "# x1=x1[0]\n",
                "# lastpeak=x1[0]\n",
                "#######\n",
                "\n",
                "# datacut2=data.Ampl[minindex:lastpeak]\n",
                "# timecut2=data.Time[minindex:lastpeak]\n",
                "# datacut2=datacut2.to_numpy()\n",
                "# timecut2=timecut2.to_numpy()\n",
                "\n",
                "plt.plot(timecut1*1000000,datacut1)\n",
                "plt.xlabel('Time (microseconds)')\n",
                "plt.ylabel('Intensity (a.u.)')\n",
                "plt.show()"
            ]
        },
        {
            "cell_type": "code",
            "execution_count": 305,
            "metadata": {},
            "outputs": [
                {
                    "data": {
                        "image/png": "[encoded data removed]",
                        "text/plain": [
                            "<Figure size 432x288 with 1 Axes>"
                        ]
                    },
                    "metadata": {
                        "needs_background": "light"
                    },
                    "output_type": "display_data"
                }
            ],
            "source": [
                "def lorentzian( x, x0, a, gam ):\n",
                "    return a * gam**2 / ( gam**2 + ( x - x0 )**2)\n",
                "\n",
                "wLlist=[] # list of frequencies calculated from a Lorentzian fit \n",
                "wLtime=[] # list of time points cut from begining of trace for FFT & resulting Lorentizan fit \n",
                "i=0\n",
                "pct=0.2 #percent of trance to cut \n",
                "while i<len(datacut1)*pct: # set arbrutrary number of points to remove from begining of trace - 20% of the points\n",
                "    datacut=datacut1[i:len(datacut1)]\n",
                "    timecut=timecut1[i:len(timecut1)]\n",
                "    N = len(timecut) # number of datapoints\n",
                "    DURATION = max(timecut)-min(timecut) # duration of measurment \n",
                "    yf = fft(datacut)\n",
                "    xf = fftfreq(N, DURATION/N)\n",
                "    y=np.abs(yf[1:len(yf)])\n",
                "    x=xf[1:len(yf)]\n",
                "    indices=find_peaks(y,height=[0.5*max(y),max(y)])[0] #height=[min(y),max(y)]\n",
                "    if len(indices)==0: # if could not find a peak to fit set frequency to 1 - filter out later\n",
                "        omega2=1\n",
                "    else:\n",
                "        t=y[indices]\n",
                "        m=np.argmax(t)\n",
                "        if indices[m]<3:\n",
                "            cutmin=1\n",
                "            cutmax=indices[m]+3\n",
                "        else:  \n",
                "            cutmin=indices[m]-3 # minimum index fitting boundry 3 works for long trace, cut to 2 if ST comes out orders of magnutude too high\n",
                "            cutmax=indices[m]+3\n",
                "        xcut=x[cutmin:cutmax]\n",
                "        ycut=y[cutmin:cutmax]\n",
                "        # fit 1 Lorentzian over fitting boundry indecies with starting guesses p0=[x0,a,gam]\n",
                "        popt,pcov = curve_fit(lorentzian, xcut, ycut,maxfev=1000000000,p0=(x[indices[m]],max(y),200)) \n",
                "        omega2=popt[0] #frequency from Lorentzian fit of FFT of ELB trace\n",
                "    # fitx=np.linspace(min(xcut),max(xcut),100)\n",
                "    # fity=lorentzian( fitx, popt[0], popt[1], popt[2])  \n",
                "    # plt.plot(x/1000, y)\n",
                "    # plt.scatter(x[indices[0]]/1000,y[indices[0]],color='red') \n",
                "    # plt.plot(fitx/1000,fity)  \n",
                "    # plt.xlim([1,800])\n",
                "    # plt.xlabel(\"Frequency (kHz)\")\n",
                "    # plt.ylabel(\"Magnitude (a.u.)\")\n",
                "    # plt.show()\n",
                "    wLlist=np.append(wLlist,omega2)\n",
                "    wLtime=np.append(wLtime,min(timecut))\n",
                "    i=i+round(len(datacut1)*pct/20) # cut ELB trace by percent pct in 20 equally spaced steps\n",
                "\n",
                "# plt.plot(wlist)\n",
                "plt.plot(wLtime*1000000,wLlist/1000)\n",
                "plt.xlim([0,max(wLtime)*1000000])\n",
                "plt.ylim([min(wLlist/1000)-25,max(wLlist/1000)+25])\n",
                "#plt.legend([\"FFT max\",\"Centre of Lorentzian\"])\n",
                "plt.xlabel(\"Time cut from begining of EBL trace (microseconds)\")\n",
                "plt.ylabel(\"Frequency of l = 2 peak (kHz)\")\n",
                "plt.show()\n"
            ]
        },
        {
            "cell_type": "code",
            "execution_count": 306,
            "metadata": {},
            "outputs": [],
            "source": [
                "#Solute parameters\n",
                "ri=np.mean(ri2)\n",
                "T = 295 #Temperature in K\n",
                "# NaCl and glutaric acid parameterization from: Bzdek, B. R., Power, R. M., Simpson, S. H., Reid, J. P., & Royall, C. P. (2016). Precise, contactless measurements of the surface tension of picolitre aerosol droplets. Chemical Science, 7(1), 274–285. http://doi.org/10.1039/c5sc03184b Error in viscosity parameterization for glutaric acid. First term should be ^2\n",
                "if solute == 'glutaric acid':\n",
                "    molarity=5.8647*ri**3+12.804*ri**2+2.4342*ri-39.875 #mol/L\n",
                "    rho=-0.4163*molarity**2+32.736*molarity+997.28 # kg m^-3 !! Fit viscosity data from Song, Y. C., Haddrell, A. E., Bzdek, B. R., Reid, J. P., Bannan, T., Topping, D. O., … Cai, C. (2016). Measurements and Predictions of Binary Component Aerosol Particle Viscosity. Journal of Physical Chemistry A, 120(41), 8123–8137. http://doi.org/10.1021/acs.jpca.6b07835 to double check parameterization \n",
                "    visc=9.52*10**-5*molarity**2+1.509*10**-4*molarity+9.017*10**-4 # Pa*s\n",
                "    MW=132.12/1000 #molecular mass glutaric acid (kg/mol)\n",
                "    fname=r'C:\\Users\\zu21202\\OneDrive - University of Bristol\\Documents\\Python\\AIOMFAC/AIOMFAC-Glutaric-Acid-H2O-295.txt' \n",
                "elif solute == 'NaCl':\n",
                "    #molarity= -287.3*ri**3 + 1322.3*ri**2 - 1877.3*ri + 833.2 #mol/L Chem. Sci. 2016\n",
                "    molarity = -1.32107*10**3*ri**3 + 5.71968*10**3*ri**2 - 8.10936*10**3*ri + 3.77562*10**3 #CRC parameterization\n",
                "    rho= 3.506*10**-3*molarity**2 + 35.06*molarity + 1000.6# kg m^-3\n",
                "    visc= 4*10**-5*molarity**2 + 10**-4*molarity + 1.1*10**-3# Pa*s\n",
                "    MW=58.44277/1000 #molecular mass NaCl (kg/mol)\n",
                "    fname=r'C:\\Users\\zu21202\\OneDrive - University of Bristol\\Documents\\Python\\AIOMFAC/AIOMFAC-NaCl-H2O-295.txt'\n",
                "elif solute == 'sea spray':\n",
                "    molarity = 82.919*ri-110.54 # parameterized data in 0.5M region\n",
                "    rho=-3.1*molarity**2 + 51.1*molarity + 998.6# kg m^-3\n",
                "    visc= 4*10**-5*molarity**2 + 10**-4*molarity + 1.1*10**-3# Pa*s Assume same viscisity as NaCl\n",
                "    MW=58.44277/1000 #molecular mass NaCl (kg/mol)\n",
                "    fname=r'C:\\Users\\zu21202\\OneDrive - University of Bristol\\Documents\\Python\\AIOMFAC/AIOMFAC-NaCl-H2O-295.txt'\n",
                "\n",
                "wB=molarity*MW/rho*1000\n",
                "\n",
                "#import activity data - AIOMFAC    \n",
                "dat=pd.read_table(fname,header=None) #read file\n",
                "dat.T\n",
                "wb=1-dat[6] # mass fraction \n",
                "act=dat[14] # activity\n",
                "def aw_fun(wB):\n",
                "    return np.interp(wB, wb, act) # water activity parameterization\n",
                "\n",
                "\n",
                "#Surfactant Parameters\n",
                "if surfactant == 'TritonX100':\n",
                "    MWsurf = 646.86/1000 #kg/mol\n",
                "elif surfactant == 'SDS':\n",
                "    MWsurf = 288.372/1000  #kg/mol\n",
                "elif surfactant == 'O-b-D-1-TGP':\n",
                "     MWsurf = 308.43/1000  #kg/mol\n",
                "elif surfactant == 'CTAB':\n",
                "    MWsurf = 364.45/1000  #kg/mol\n",
                "elif surfactant == 'Tween20':\n",
                "    MWsurf = 1227.53/1000  #kg/mol\n",
                "elif surfactant == 'C10E8':\n",
                "    MWsurf = 510.7/1000 #kg/mol\n",
                "elif surfactant == 'C12E5':\n",
                "    MWsurf = 406.6/1000  #kg/mol\n",
                "elif surfactant == 'C14E6':\n",
                "    MWsurf = 478.703/1000  #kg/mol\n",
                "elif surfactant == 'C16E8':\n",
                "    MWsurf = 594.86/1000  #kg/mol\n",
                "elif surfactant == 'sodium myristate':\n",
                "    MWsurf = 250.35/1000 #kg/mol\n",
                "elif surfactant == 'sodium laurate':\n",
                "    MWsurf = 222.3/1000 #kg/mol\n",
                "elif surfactant == 'sodium caprate':\n",
                "    MWsurf = 194.25/1000 #kg/mol\n",
                "elif surfactant == 'sodium caprylate':\n",
                "    MWsurf = 166.2/1000 #kg/mol\n",
                "\n",
                "if solute == 'sea spray':\n",
                "    molSol=0.48 # 0.48 M \n",
                "    molSurf=massSurf/(vSol*MWsurf) # M \n",
                "    ratio=molSurf/molSol\n",
                "    consurf=molarity*ratio*1000 #concentration of surfactant mM \n",
                "else:\n",
                "    molSol=massSol/(vSol*MW)\n",
                "    molSurf=massSurf/(vSol*MWsurf)\n",
                "    ratio=molSurf/molSol\n",
                "    consurf=molarity*ratio*1000 #concentration of surfactant mM "
            ]
        },
        {
            "cell_type": "code",
            "execution_count": 307,
            "metadata": {},
            "outputs": [
                {
                    "name": "stdout",
                    "output_type": "stream",
                    "text": [
                        "24.226312816123233 24.794995546373585 0.9756825219753505 1.4145808925703065 1.2734545608563481 8983.746396706798\n"
                    ]
                }
            ],
            "source": [
                "wLlistfilt = [i for i in wLlist if i >= 1] #remove any bad frequency points (below 1 Hz)\n",
                "wlListfilt=np.array(wLlistfilt)\n",
                "#wlListfilt=wlListfilt[8:len(wlListfilt)] # remove more points if needed\n",
                "omegaL=wlListfilt*2*np.pi\n",
                "#omegaL=wLlistfilt*2*np.pi # observed anglular frequency Hz of l=2 mode from Lorentzian\n",
                "omegaLmax=max(omegaL)\n",
                "omegaLmean=np.mean(omegaL)\n",
                "l=2# mode order\n",
                "a = (meanrad)*10**(-9) #radius in m\n",
                "aw = aw_fun(wB)\n",
                "\n",
                "tao=(a**2*rho)/((l-1)*(2*l+1)*visc) # Characteristic Damping [Hz]  \n",
                "omega_cor_mean=((omegaLmean**2 + tao**-2)**0.5)\n",
                "st2=((omega_cor_mean)**2*rho*a**3)/(l*(l-1)*(l+2)) # Hz^2 kg/m^3 m^3 = kg s^-2 = N m^-1\n",
                "surften_mean=st2*1000 # mN/m\n",
                "st=((omegaLmean)**2*rho*a**3)/(l*(l-1)*(l+2)) # Hz^2 kg/m^3 m^3 = kg s^-2 = N m^-1\n",
                "surften_meanL=st*1000 # mN/m\n",
                "\n",
                "print(str(surften_meanL)+' '+str(surften_mean)+' '+str(aw)+' '+str(molarity)+' '+str(consurf)+' '+str(meanrad))"
            ]
        },
        {
            "cell_type": "code",
            "execution_count": 298,
            "metadata": {},
            "outputs": [],
            "source": [
                "header='surface_tension(mN/m)'+' '+'surface_tension_visccor(mN/m)'+' '+'water_activity'+' '+'psolute_molarity(M)'+' '+'surfactant_molarity(mM)'+' '+'radius(nm)'+' '+'RI(nm)'+' '+'fileID'\n",
                "string=str(surften_meanL)+' '+str(surften_mean)+' '+str(aw)+' '+str(molarity)+' '+str(consurf)+' '+str(meanrad)+' '+str(meanri)+' '+fname1 \n",
                "\n",
                "#Open the file in append & read mode ('a+')\n",
                "with open(\"ST-GA-C16E8-more.txt\", \"a+\") as file_object:\n",
                "    # Move read cursor to the start of file.\n",
                "    file_object.seek(0)\n",
                "    # If file is not empty then append '\\n'\n",
                "    data = file_object.read(100)\n",
                "    if len(data) > 0 :\n",
                "        file_object.write(\"\\n\")\n",
                "    file_object.write(string)"
            ]
        },
        {
            "cell_type": "code",
            "execution_count": null,
            "metadata": {},
            "outputs": [],
            "source": []
        }
    ],
    "metadata": {
        "kernelspec": {
            "display_name": "Python 3.9.7 ('base')",
            "language": "python",
            "name": "python3"
        },
        "language_info": {
            "codemirror_mode": {
                "name": "ipython",
                "version": 3
            },
            "file_extension": ".py",
            "mimetype": "text/x-python",
            "name": "python",
            "nbconvert_exporter": "python",
            "pygments_lexer": "ipython3",
            "version": "3.9.7"
        },
        "orig_nbformat": 4,
        "vscode": {
            "interpreter": {
                "hash": "d83c4d645cffd233e6c5aec9af7c7e470848b1af8f79dc632e5edce639a40280"
            }
        }
    },
    "nbformat": 4,
    "nbformat_minor": 2
}
